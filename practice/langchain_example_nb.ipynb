{
 "cells": [
  {
   "cell_type": "code",
   "execution_count": 6,
   "id": "f21b79d8",
   "metadata": {},
   "outputs": [],
   "source": [
    "#import all the reuired lanchain libraries\n",
    "from langchain_core.prompts import ChatPromptTemplate\n",
    "from langchain_openai import ChatOpenAI\n",
    "from langchain_google_genai import ChatGoogleGenerativeAI\n",
    "from dotenv import load_dotenv\n",
    "import os"
   ]
  },
  {
   "cell_type": "code",
   "execution_count": 3,
   "id": "adfee95a",
   "metadata": {},
   "outputs": [
    {
     "data": {
      "text/plain": [
       "True"
      ]
     },
     "execution_count": 3,
     "metadata": {},
     "output_type": "execute_result"
    }
   ],
   "source": [
    "load_dotenv()"
   ]
  },
  {
   "cell_type": "code",
   "execution_count": 4,
   "id": "f665fe7c",
   "metadata": {},
   "outputs": [],
   "source": [
    "def main():\n",
    "\n",
    "    print(demosimple.__doc__)\n",
    "    demosimple() "
   ]
  },
  {
   "cell_type": "code",
   "execution_count": null,
   "id": "3833459b",
   "metadata": {},
   "outputs": [
    {
     "name": "stdout",
     "output_type": "stream",
     "text": [
      "\n",
      "    This Function Demonstrates a simple use of LCEL (LangChain Expression Language) to create a custom Chain with the Prompt and Model\n",
      "    \n",
      "Some of Abraham Lincoln's key achievements include:\n",
      "\n",
      "* **Preserving the Union:**  This is arguably his greatest achievement.  He led the United States through the Civil War, preventing the country from permanently splitting into two separate nations.  He believed strongly in the indivisibility of the Union and dedicated himself to its preservation.\n",
      "\n",
      "* **Emancipating enslaved people:**  While the Emancipation Proclamation didn't free all enslaved people immediately, it was a crucial step towards ending slavery in the United States. It changed the character of the war and paved the way for the 13th Amendment, which abolished slavery entirely.\n",
      "\n",
      "* **Strengthening the federal government:**  The Civil War greatly expanded the power and scope of the federal government. Lincoln's actions during the war established a stronger national government, capable of addressing national challenges more effectively.\n",
      "\n",
      "* **Modernizing the economy:**  Lincoln oversaw the passage of legislation that promoted economic growth and modernization, including the Homestead Act, which encouraged westward expansion, and the Pacific Railway Act, which authorized the construction of the transcontinental railroad.\n",
      "\n",
      "* **Inspiring the nation with his words and leadership:** Lincoln's speeches and writings, particularly the Gettysburg Address, continue to inspire and resonate with people today.  His leadership during a time of national crisis set a high standard for future presidents.\n"
     ]
    }
   ],
   "source": [
    "def demosimple():\n",
    "    \"\"\"\n",
    "    This Function Demonstrates a simple use of LCEL (LangChain Expression Language) to create a custom Chain with the Prompt and Model\n",
    "    \"\"\"\n",
    "\n",
    "    # Create the Prompt Template\n",
    "    prompt = ChatPromptTemplate.from_template(\"Tell me a few key achievements of {name}\")\n",
    "    \n",
    "    # write code Create the LLM Object for gemini-pro-1.5 and the key is stored in .env file as GOOGLE_API_KEY\n",
    "    model = ChatGoogleGenerativeAI(\n",
    "            model=\"gemini-1.5-pro\",\n",
    "            google_api_key=os.getenv(\"GOOGLE_API_KEY\"),\n",
    "            temperature=0.5\n",
    "        )\n",
    "\n",
    "\n",
    "    # Create the Chain\n",
    "    chain = prompt | model     # LCEL - LangChain Expression Language\n",
    "    \n",
    "    # Invoke (run) the Chain - The Chat Model returns a Message\n",
    "    print(chain.invoke({\"name\": \"Abraham Lincoln\"}).content)\n",
    "\n",
    "\n",
    "if __name__ == \"__main__\":\n",
    "    main()"
   ]
  },
  {
   "cell_type": "code",
   "execution_count": 8,
   "id": "94516740",
   "metadata": {},
   "outputs": [
    {
     "name": "stdout",
     "output_type": "stream",
     "text": [
      "\n",
      "    This Function Demonstrates a simple use of LCEL (LangChain Expression Language) to create a custom Chain with the Prompt and Model\n",
      "    \n"
     ]
    },
    {
     "name": "stderr",
     "output_type": "stream",
     "text": [
      "/Users/rajjha/.local/share/virtualenvs/Demo-qIcnG21k/lib/python3.10/site-packages/langchain_google_genai/chat_models.py:367: UserWarning: Convert_system_message_to_human will be deprecated!\n",
      "  warnings.warn(\"Convert_system_message_to_human will be deprecated!\")\n"
     ]
    },
    {
     "name": "stdout",
     "output_type": "stream",
     "text": [
      "Abraham Lincoln's key achievements primarily revolve around preserving the Union and ending slavery:\n",
      "\n",
      "* **Preserved the Union:**  He successfully led the United States through the Civil War, preventing the country from permanently splitting into two separate nations.  This is arguably his greatest accomplishment.\n",
      "* **Emancipated enslaved people:**  He issued the Emancipation Proclamation, which declared enslaved people in Confederate-held territory free, and he strongly supported the 13th Amendment to the Constitution, which abolished slavery throughout the United States.\n",
      "* **Strengthened the federal government:**  The Civil War dramatically increased the power and scope of the federal government, solidifying its role as the dominant force in American politics.  Lincoln's actions during the war played a crucial role in this shift.\n",
      "* **Modernized the economy:**  Lincoln oversaw the passage of legislation that spurred economic growth, including the Homestead Act, which encouraged westward expansion, and the Pacific Railway Act, which authorized the construction of the transcontinental railroad.\n",
      "* **Inspired the nation:**  Lincoln's speeches and writings, particularly the Gettysburg Address, articulated a vision of national unity and purpose that continues to resonate today. He is widely regarded as one of the greatest orators and writers in American history.\n"
     ]
    }
   ],
   "source": [
    "def demosimple():\n",
    "    \"\"\"\n",
    "    This Function Demonstrates a simple use of LCEL (LangChain Expression Language) to create a custom Chain with the Prompt and Model\n",
    "    \"\"\"\n",
    "\n",
    "    # Create the Prompt Template\n",
    "    prompt = ChatPromptTemplate.from_template(\"Tell me a few key achievements of {name}\")\n",
    "    \n",
    "    # write code Create the LLM Object for gemini-pro-1.5 and the key is stored in .env file as GOOGLE_API_KEY\n",
    "    # model = ChatGoogleGenerativeAI(\n",
    "    #         model=\"gemini-1.5-pro\",\n",
    "    #         google_api_key=os.getenv(\"GOOGLE_API_KEY\"),\n",
    "    #         temperature=0.5\n",
    "    #     )\n",
    "\n",
    "    model = ChatGoogleGenerativeAI(\n",
    "            model=\"gemini-1.5-pro\",\n",
    "            google_api_key=os.getenv(\"GOOGLE_API_KEY\"),\n",
    "            temperature=0.7,\n",
    "            top_p=0.95,\n",
    "            top_k=40,\n",
    "            max_output_tokens=1024,\n",
    "            convert_system_message_to_human=True,\n",
    "            verbose=True\n",
    "        )\n",
    "\n",
    "\n",
    "    # Create the Chain\n",
    "    chain = prompt | model     # LCEL - LangChain Expression Language\n",
    "    \n",
    "    # Invoke (run) the Chain - The Chat Model returns a Message\n",
    "    print(chain.invoke({\"name\": \"Abraham Lincoln\"}).content)\n",
    "\n",
    "\n",
    "if __name__ == \"__main__\":\n",
    "    main()"
   ]
  },
  {
   "cell_type": "code",
   "execution_count": 12,
   "id": "878a0e29",
   "metadata": {},
   "outputs": [
    {
     "name": "stdout",
     "output_type": "stream",
     "text": [
      "\n",
      "    This Function Demonstrates a simple use of LCEL (LangChain Expression Language) to create a custom Chain with the Prompt and Model\n",
      "    \n"
     ]
    },
    {
     "name": "stderr",
     "output_type": "stream",
     "text": [
      "/Users/rajjha/.local/share/virtualenvs/Demo-qIcnG21k/lib/python3.10/site-packages/langchain_google_genai/chat_models.py:367: UserWarning: Convert_system_message_to_human will be deprecated!\n",
      "  warnings.warn(\"Convert_system_message_to_human will be deprecated!\")\n"
     ]
    },
    {
     "name": "stdout",
     "output_type": "stream",
     "text": [
      "```json\n",
      "{\n",
      "  \"name\": \"Sachin Tendulkar\",\n",
      "  \"achievements\": [\n",
      "    \"First batsman to score a double century in ODIs (200* vs South Africa, 2010)\",\n",
      "    \"Most runs in both Tests (15,921) and ODIs (18,426)\",\n",
      "    \"Most centuries in both Tests (51) and ODIs (49)\",\n",
      "    \"Most international centuries (100)\",\n",
      "    \"Only player to score more than 30,000 international runs (34,357)\",\n",
      "    \"Most Man of the Match awards in ODIs (62)\",\n",
      "    \"Played in a record six World Cups (1992-2011)\",\n",
      "    \"Part of the 2011 World Cup winning Indian team\",\n",
      "    \"Recipient of the Bharat Ratna, India's highest civilian award (2014)\",\n",
      "    \"Recipient of the Padma Vibhushan, India's second-highest civilian award (2008)\",\n",
      "    \"Recipient of the Padma Shri, India's fourth-highest civilian award (1999)\",\n",
      "    \"Recipient of the Arjuna Award, India's second highest sporting honour (1994)\",\n",
      "    \"Youngest Indian to make a Test debut (16 years and 205 days)\",\n",
      "    \"First overseas-born player to represent Yorkshire (1992)\",\n",
      "    \"Wisden Cricketer of the Year (1997)\",\n",
      "    \"ICC World ODI XI Captain (2002, 2007 and 2010)\",\n",
      "    \"Laureus World Sports Award for Sportsman of the Year (2010)\",\n",
      "    \"Rajiv Gandhi Khel Ratna Award, India's highest sporting honour (1997-98)\",\n",
      "    \"Maharashtra Bhushan Award, highest civilian award from the state of Maharashtra (2001)\",\n",
      "    \"Inducted into the ICC Cricket Hall of Fame (2019)\"\n",
      "  ]\n",
      "}\n",
      "```\n"
     ]
    }
   ],
   "source": [
    "def demosimple():\n",
    "    \"\"\"\n",
    "    This Function Demonstrates a simple use of LCEL (LangChain Expression Language) to create a custom Chain with the Prompt and Model\n",
    "    \"\"\"\n",
    "\n",
    "    # Prompt Template with escaped curly braces\n",
    "    prompt = ChatPromptTemplate.from_template(\"\"\"\n",
    "    You are a cricket analyst who has the complete knowledge of all the cricket history - matches, records, stats etc. Give the achievements of {name} in this format:\n",
    "\n",
    "    {{\n",
    "        \"name\": \"<person name>\",\n",
    "        \"achievements\": [\"...\", \"...\", \"...\"]\n",
    "    }}\n",
    "    \"\"\")\n",
    "\n",
    "    # Gemini LLM config\n",
    "    model = ChatGoogleGenerativeAI(\n",
    "        model=\"gemini-1.5-pro\",\n",
    "        google_api_key=os.getenv(\"GOOGLE_API_KEY\"),\n",
    "        temperature=0.7,\n",
    "        top_p=0.95,\n",
    "        top_k=40,\n",
    "        max_output_tokens=1024,\n",
    "        convert_system_message_to_human=True,\n",
    "        verbose=True\n",
    "    )\n",
    "\n",
    "    # Chain using LangChain Expression Language (LCEL)\n",
    "    chain = prompt | model\n",
    "\n",
    "    # Run chain\n",
    "    print(chain.invoke({\"name\": \"Sachin Tendulkar\"}).content)\n",
    "\n",
    "def main():\n",
    "    print(demosimple.__doc__)\n",
    "    demosimple()\n",
    "\n",
    "if __name__ == \"__main__\":\n",
    "    main()\n"
   ]
  },
  {
   "cell_type": "code",
   "execution_count": null,
   "id": "da0d9a4f",
   "metadata": {},
   "outputs": [],
   "source": []
  }
 ],
 "metadata": {
  "kernelspec": {
   "display_name": "Python (Pipenv 3.10)",
   "language": "python",
   "name": "demo-py310"
  },
  "language_info": {
   "codemirror_mode": {
    "name": "ipython",
    "version": 3
   },
   "file_extension": ".py",
   "mimetype": "text/x-python",
   "name": "python",
   "nbconvert_exporter": "python",
   "pygments_lexer": "ipython3",
   "version": "3.10.16"
  }
 },
 "nbformat": 4,
 "nbformat_minor": 5
}
